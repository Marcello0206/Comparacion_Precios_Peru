{
 "cells": [
  {
   "cell_type": "markdown",
   "metadata": {},
   "source": [
    "# Comparación de precios de iPhones en Perú\n",
    "\n",
    "Se utilizarán tecnicas de web scraping para conseguir información sobre las distintas tiendas.\n",
    "\n",
    "Coders:\n",
    "- Anchante Fernandez, Marcello\n",
    "- Batalla Flores, Stephano"
   ]
  },
  {
   "cell_type": "markdown",
   "metadata": {},
   "source": [
    "# Objetivos\n",
    "\n",
    "- Determinar precios de 3 tiendas conocidas: Saga Falabella, Hiraoka y Mercado Libre."
   ]
  },
  {
   "cell_type": "markdown",
   "metadata": {},
   "source": [
    "## Resultados de iPhone's vendidos por Falabella"
   ]
  },
  {
   "cell_type": "code",
   "execution_count": null,
   "metadata": {},
   "outputs": [],
   "source": [
    "## En caso no contar con los paquetes\n",
    "# !pip install bs4\n",
    "# !pip install requests\n",
    "# !pip install pandas\n",
    "# !pip install pdfkit\n",
    "# !pip install jinja2\n",
    "# !pip install yagmail\n",
    "\n",
    "## Importante instalar el archivo 'wkhtmltox-0.12.6-1.msvc2015-win64.exe'"
   ]
  },
  {
   "cell_type": "code",
   "execution_count": null,
   "metadata": {},
   "outputs": [],
   "source": [
    "from bs4 import BeautifulSoup\n",
    "import re\n",
    "import requests\n",
    "import pandas as pd"
   ]
  },
  {
   "cell_type": "code",
   "execution_count": null,
   "metadata": {},
   "outputs": [],
   "source": [
    "def obtener_enlaces(url):\n",
    "    content = requests.get(url).text\n",
    "    soup = BeautifulSoup(content, 'html.parser')\n",
    "    enlaces_similares = re.findall(r\"https://www\\.falabella\\.com\\.pe/falabella-pe/product/\\w+\", content)\n",
    "    celulares_enlaces = list(set(enlaces_similares))\n",
    "        \n",
    "    return celulares_enlaces\n",
    "    \n",
    "    "
   ]
  },
  {
   "cell_type": "code",
   "execution_count": null,
   "metadata": {},
   "outputs": [],
   "source": [
    "celulares_enlaces = obtener_enlaces('https://www.falabella.com.pe/falabella-pe/category/cat760706/Celulares-y-Telefonos?sortBy=derived.price.search%2Cdesc&facetSelected=true&f.derived.variant.sellerId=FALABELLA&f.product.brandName=apple')"
   ]
  },
  {
   "cell_type": "code",
   "execution_count": null,
   "metadata": {},
   "outputs": [],
   "source": [
    "def precio(url):\n",
    " \n",
    "    precios = []\n",
    "    titulos = []\n",
    "    marcas = []\n",
    "    modelos = []\n",
    "    capacidades = []\n",
    "    ext = []\n",
    "\n",
    "    for u in url:\n",
    "        content = requests.get(u).text\n",
    "        soup = BeautifulSoup(content, 'html.parser')\n",
    "        \n",
    "        titulo = soup.find('div', class_='jsx-1442607798')\n",
    "        precio = soup.find('span', class_='copy17')\n",
    "\n",
    "        if titulo and precio:\n",
    "            titulos.append(titulo.text)\n",
    "            precios.append(int(precio.text.replace(' ', '').replace(',', '').replace('S/','')))\n",
    "\n",
    "            marca = 'Apple'\n",
    "            modelo_match = re.search(r'iPhone\\s([\\w\\s]+)\\s\\d+GB', titulo.text)\n",
    "            modelo = modelo_match.group(1).strip() if modelo_match else \"\"\n",
    "            capacidad_match = re.search(r'\\d+GB', titulo.text)\n",
    "            capacidad = capacidad_match.group(0) if capacidad_match else \"\"\n",
    "            extras_match = re.search(r'\\+\\s*(.*)$', titulo.text)\n",
    "            extras = extras_match.group(1).strip() if extras_match else \"-\"\n",
    "            \n",
    "            capacidad = re.sub(r'(\\d+)(GB)', r'\\1 \\2', capacidad)\n",
    "\n",
    "            marcas.append(marca)\n",
    "            modelos.append('iPhone ' + modelo.lstrip().rstrip())\n",
    "            capacidades.append(capacidad)\n",
    "            ext.append(extras)\n",
    "        \n",
    "    tabla = pd.DataFrame({'Marca': marcas, \n",
    "                          'Modelo': modelos, \n",
    "                          'Capacidad': capacidades, \n",
    "                          'Extras': ext, \n",
    "                          'Precio (S/.)': precios, \n",
    "                          'Enlace':(celulares_enlaces),\n",
    "                          'Tienda':'Falabella'})\n",
    "    return tabla\n"
   ]
  },
  {
   "cell_type": "code",
   "execution_count": null,
   "metadata": {},
   "outputs": [],
   "source": [
    "falabella = precio(celulares_enlaces)\n",
    "falabella"
   ]
  },
  {
   "cell_type": "markdown",
   "metadata": {},
   "source": [
    "## Resultados de iPhone's vendidos por MercadoLibre"
   ]
  },
  {
   "cell_type": "code",
   "execution_count": null,
   "metadata": {},
   "outputs": [],
   "source": [
    "from bs4 import BeautifulSoup\n",
    "import re\n",
    "import requests\n",
    "import pandas as pd"
   ]
  },
  {
   "cell_type": "code",
   "execution_count": null,
   "metadata": {},
   "outputs": [],
   "source": [
    "def tabla_mercadolibre(url):\n",
    "\n",
    "    response = requests.get(url)\n",
    "    soup = BeautifulSoup(response.text, \"html.parser\")\n",
    "\n",
    "    product_list = soup.find_all(\"div\", class_=\"ui-search-result__content-wrapper\")\n",
    "    resultados = soup.find_all('span', attrs={#'class':\"andes-money-amount__fraction\",\n",
    "                                              #'aria-hidden':'true'\n",
    "                                              'class':'andes-money-amount ui-search-price__part shops__price-part andes-money-amount--cents-superscript'})\n",
    "    \n",
    "    \n",
    "\n",
    "    precios = []\n",
    "    for resultado in resultados:\n",
    "        precios.append(int(resultado.find_all('span', class_='andes-money-amount__fraction')[0].text.replace('.','')))\n",
    "    \n",
    "\n",
    "    mar = []\n",
    "    mod = []\n",
    "    cap = []\n",
    "    col = []\n",
    "        \n",
    "\n",
    "    for product in product_list:\n",
    "\n",
    "        name = product.find(\"h2\", class_=\"ui-search-item__title\").text.strip()\n",
    "        \n",
    "        marca = 'Apple'\n",
    "\n",
    "        modelo = re.findall(r\"(.*?)\\s\\(\", name)\n",
    "        if len(modelo) > 0:\n",
    "            modelo = re.findall(r\"(.*?)\\s\\(\", name)[0]\n",
    "        else: modelo = '-'\n",
    "\n",
    "        capacidad = re.findall(r\"\\((.*?)\\)\",name)[0]\n",
    "        color = re.findall(r\"\\-\\s(.+)$\",name)\n",
    "        if len(color) > 0:\n",
    "            color = re.findall(r\"\\-\\s(.+)$\", name)[0]\n",
    "        else: color = 'No especificado'\n",
    "        \n",
    "        capacidad = re.sub(r'(\\d+)\\s*([gG]b)', r'\\1 GB', capacidad)\n",
    "        mar.append(marca)\n",
    "        mod.append(modelo.replace('Apple ',''))\n",
    "        cap.append(capacidad)\n",
    "        col.append(color)\n",
    "       \n",
    "    # return mar, mod, cap, col, precios\n",
    "    return pd.DataFrame({'Marca':mar,\n",
    "                            'Modelo':mod,\n",
    "                            'Capacidad':cap,\n",
    "                            'Color':col,\n",
    "                            'Precio (S/.)':precios,\n",
    "                            'Tienda':'Mercado Libre'})"
   ]
  },
  {
   "cell_type": "code",
   "execution_count": null,
   "metadata": {},
   "outputs": [],
   "source": [
    "mercado_libre =(tabla_mercadolibre('https://listado.mercadolibre.com.pe/celulares-telefonos/celulares-smartphones/apple/nuevo/_Tienda_apple_af_to#unapplied_filter_id%3Dinstallments%26unapplied_filter_name%3DPago%26unapplied_value_id%3Dno_interest%26unapplied_value_name%3DSin+inter%C3%A9s%26unapplied_autoselect%3Dfalse'))\n",
    "mercado_libre"
   ]
  },
  {
   "cell_type": "markdown",
   "metadata": {},
   "source": [
    "## Resultados de iPhone's vendidos por Hiraoka"
   ]
  },
  {
   "cell_type": "code",
   "execution_count": null,
   "metadata": {},
   "outputs": [],
   "source": [
    "from bs4 import BeautifulSoup\n",
    "import re\n",
    "import requests\n",
    "import pandas as pd"
   ]
  },
  {
   "cell_type": "code",
   "execution_count": null,
   "metadata": {},
   "outputs": [],
   "source": [
    "def tabla_hiraoka(url):\n",
    "    content = requests.get(url).text\n",
    "    soup = BeautifulSoup(content, 'html.parser')\n",
    "    results = int(soup.find('span', class_='toolbar-number').text)\n",
    "    pages = results//20 + 1\n",
    "    urls = []\n",
    "    for page in range(1,pages+1):\n",
    "        urls.append(f'https://hiraoka.com.pe/apple-peru/iphone?p={page}')\n",
    "    precios = []\n",
    "    titles = []\n",
    "    listas = []\n",
    "    celular = []\n",
    "    for url in urls:\n",
    "        content = requests.get(url).text\n",
    "        soup = BeautifulSoup(content, 'html.parser')\n",
    "        prices = soup.find_all('span',attrs = {'data-price-type':'finalPrice'})\n",
    "        titles.append(soup.find_all('a',class_='product-item-link'))\n",
    "        for price in prices:\n",
    "            precios.append(int(float(price.text.replace('S/ ','').replace(',',''))))\n",
    "\n",
    "        \n",
    "        content = requests.get(url).text\n",
    "        soup = BeautifulSoup(content, 'html.parser')\n",
    "        titles = soup.find_all('a',class_='product-item-link')\n",
    "\n",
    "            \n",
    "        for title in titles:\n",
    "            listas.append(title.text.strip().replace('APPLE','Apple'))\n",
    "\n",
    "        celular =  [elemento for elemento in listas if elemento != 'Apple']\n",
    "        while '' in celular:\n",
    "            celular.remove('')\n",
    "        regex = r'^(.*?)\\s(\\d+\\.\\d+)\\\"\\s(\\d+GB)\\s(.+)$'\n",
    "        modelo = []\n",
    "        capacidad= []\n",
    "        color = []\n",
    "        for item in celular:\n",
    "            match = re.search(regex, item)\n",
    "            if match:\n",
    "                modelo.append(match.group(1))\n",
    "                capacidad.append(match.group(3))\n",
    "                color.append(match.group(4))\n",
    "            capacidades = []\n",
    "            for elemento in capacidad:\n",
    "                capacidades.append(re.sub(r'(\\d+)(GB)', r'\\1 \\2', elemento))\n",
    "                \n",
    "    hiraoka = pd.DataFrame({'Marca':'Apple',\n",
    "                    'Modelo':modelo,\n",
    "                    'Capacidad':capacidades,\n",
    "                    'Color':color,\n",
    "                    'Precio (S/.)':precios,\n",
    "                    'Tienda':'Hiraoka'})\n",
    "    return hiraoka"
   ]
  },
  {
   "cell_type": "code",
   "execution_count": null,
   "metadata": {},
   "outputs": [],
   "source": [
    "hiraoka = tabla_hiraoka('https://hiraoka.com.pe/apple-peru/iphone')\n",
    "hiraoka"
   ]
  },
  {
   "cell_type": "markdown",
   "metadata": {},
   "source": [
    "## Exportando cada tabla"
   ]
  },
  {
   "cell_type": "code",
   "execution_count": null,
   "metadata": {},
   "outputs": [],
   "source": [
    "falabella.to_csv('iPhones_Falabella.csv', index=False)\n",
    "\n",
    "mercado_libre.to_csv('iPhones_Mercado_Libre.csv', index=False)\n",
    "\n",
    "hiraoka.to_csv('iPhones_Hiraoka.csv', index=False)"
   ]
  },
  {
   "cell_type": "code",
   "execution_count": null,
   "metadata": {},
   "outputs": [],
   "source": [
    "precios_iphone = pd.concat([mercado_libre,hiraoka,falabella]).iloc[:,:7].reset_index().drop('index', axis = 1)\n",
    "precios_iphone['Color'] = precios_iphone['Color'].fillna('No especificado')\n",
    "precios_iphone['Extras'] = precios_iphone['Extras'].fillna('-')"
   ]
  },
  {
   "cell_type": "code",
   "execution_count": null,
   "metadata": {},
   "outputs": [],
   "source": [
    "precios_iphone.to_csv('iPhones_Tiendas.csv',index=False)"
   ]
  },
  {
   "cell_type": "markdown",
   "metadata": {},
   "source": [
    "## Filtrando iPhones"
   ]
  },
  {
   "cell_type": "code",
   "execution_count": null,
   "metadata": {},
   "outputs": [],
   "source": [
    "precios_iphone[precios_iphone['Modelo'] == 'iPhone 14']"
   ]
  },
  {
   "cell_type": "code",
   "execution_count": null,
   "metadata": {},
   "outputs": [],
   "source": [
    "# Buscador de filas\n",
    "\n",
    "# Este buscador nos permite buscar similar a los caracteres escritos.\n",
    "\n",
    "def buscar_filas(busqueda, dataframe):\n",
    "    resultado = dataframe[dataframe.apply(lambda row: row.astype(str).str.contains(busqueda, case=False).any(), axis=1)]\n",
    "    return resultado\n"
   ]
  },
  {
   "cell_type": "code",
   "execution_count": null,
   "metadata": {},
   "outputs": [],
   "source": [
    "buscar_filas(busqueda = input('Modelo de iPhone'), dataframe= precios_iphone)"
   ]
  },
  {
   "cell_type": "code",
   "execution_count": null,
   "metadata": {},
   "outputs": [],
   "source": [
    "precios_iphone[precios_iphone['Modelo'] == input('Modelo de iPhone')].sort_values('Precio (S/.)')"
   ]
  },
  {
   "cell_type": "markdown",
   "metadata": {},
   "source": [
    "## Presupuestando un iPhone"
   ]
  },
  {
   "cell_type": "code",
   "execution_count": null,
   "metadata": {},
   "outputs": [],
   "source": [
    "def presupuesto(df, max=10000, min=0, asc = True, busqueda = 'iPhone'):\n",
    "    df1 = df[df['Precio (S/.)']>= min]\n",
    "    df2 = df1[df1['Precio (S/.)'] <= max].sort_values('Precio (S/.)', ascending = asc)\n",
    "\n",
    "    resultado = df2[df2.apply(lambda row: row.astype(str).str.contains(busqueda, case=False).any(), axis=1)]\n",
    "    \n",
    "    return resultado"
   ]
  },
  {
   "cell_type": "code",
   "execution_count": null,
   "metadata": {},
   "outputs": [],
   "source": [
    "max=int(input('Valor Máximo'))\n",
    "min=int(input('Valor mínimo'))\n",
    "asc = bool(input('Orden ascedente= True or False'))\n",
    "busqueda=input('Modelo de iPhone')\n",
    "\n",
    "df = presupuesto(precios_iphone, max=max, min=min, asc = asc, busqueda=busqueda)\n",
    "\n",
    "df.to_csv('preferencias.csv',index=False)\n",
    "\n"
   ]
  },
  {
   "cell_type": "code",
   "execution_count": null,
   "metadata": {},
   "outputs": [],
   "source": [
    "df"
   ]
  },
  {
   "cell_type": "markdown",
   "metadata": {},
   "source": [
    "## Creando un reporte PDF"
   ]
  },
  {
   "cell_type": "code",
   "execution_count": null,
   "metadata": {},
   "outputs": [],
   "source": [
    "import pdfkit\n",
    "import jinja2\n",
    "\n",
    "\n",
    "# Valores para las variables del título\n",
    "modelo_seleccionado = busqueda\n",
    "minimo = min\n",
    "maximo = max\n",
    "\n",
    "# Estableciendo el HTML\n",
    "template_html = '''\n",
    "<!DOCTYPE html>\n",
    "<html>\n",
    "<head>\n",
    "    <meta charset=\"UTF-8\">\n",
    "    <link rel=\"stylesheet\">\n",
    "    <style>\n",
    "        body {\n",
    "            display: flex;\n",
    "            align-items: center;\n",
    "            justify-content: center;\n",
    "            min-height: 100vh;\n",
    "            background: linear-gradient(#b7328d);\n",
    "        }\n",
    "        table {\n",
    "            border-collapse: collapse;\n",
    "            width: 100%;\n",
    "        \n",
    "        }\n",
    "        th, td {\n",
    "            border: 1px solid black;\n",
    "            padding: 8px;\n",
    "            text-align: center;\n",
    "        }\n",
    "    </style>\n",
    "</head>\n",
    "<body>\n",
    "    <h1>Resultado de {{modelo_seleccionado}} entre S/. {{minimo}} y S/. {{maximo}}</h1>\n",
    "    <table>\n",
    "        <tr>\n",
    "            {% for col in df.columns %}\n",
    "                <th>{{ col }}</th>\n",
    "            {% endfor %}\n",
    "        </tr>\n",
    "        {% for _, row in df.iterrows() %}\n",
    "            <tr>\n",
    "                {% for value in row %}\n",
    "                    <td>{{ value }}</td>\n",
    "                {% endfor %}\n",
    "            </tr>\n",
    "        {% endfor %}\n",
    "    </table>\n",
    "</body>\n",
    "</html>\n",
    "'''\n",
    "\n",
    "# Generando el HTML a partir de la plantilla con los valores de las variables\n",
    "jinja_template = jinja2.Template(template_html)\n",
    "html_content = jinja_template.render(df=df, modelo_seleccionado=modelo_seleccionado, minimo=minimo, maximo=maximo)\n",
    "\n",
    "# Generando el PDF\n",
    "output_pdf = f'Reporte de {busqueda}.pdf'\n",
    "\n",
    "wkhtmltopdf_path = r'C:\\Program Files\\wkhtmltopdf\\bin\\wkhtmltopdf.exe'\n",
    "\n",
    "# Configuración de pdfkit\n",
    "options = {\n",
    "    'page-size': 'A4',\n",
    "    'margin-top': '10mm',\n",
    "    'margin-right': '10mm',\n",
    "    'margin-bottom': '10mm',\n",
    "    'margin-left': '10mm'\n",
    "}\n",
    "\n",
    "# Generar el PDF proporcionando la ruta del ejecutable y las opciones de configuración\n",
    "pdfkit.from_string(html_content, output_pdf, configuration=pdfkit.configuration(wkhtmltopdf=wkhtmltopdf_path), options=options)\n",
    "\n",
    "print(f'Se ha creado el documento PDF: {output_pdf}')\n"
   ]
  },
  {
   "cell_type": "markdown",
   "metadata": {},
   "source": [
    "## Enviando el reporte por email"
   ]
  },
  {
   "cell_type": "code",
   "execution_count": null,
   "metadata": {},
   "outputs": [],
   "source": [
    "import yagmail\n",
    "\n",
    "email = 'maaf162125@gmail.com'\n",
    "contraseña = 'ofojwaxwhymqgcsk'\n",
    "\n",
    "yag = yagmail.SMTP(user=email, password=contraseña)\n",
    "\n",
    "destinatario = input('Introduce el destinatario')\n",
    "asunto = f'📊 Reporte de iPhones por Modelo 📱📈'\n",
    "\n",
    "# Obtén el contenido HTML de la página externa\n",
    "url = \"https://www.apple.com/la/iphone/compare/\"\n",
    "response = requests.get(url)\n",
    "if response.status_code == 200:\n",
    "    html_content = response.text\n",
    "else:\n",
    "    print(\"No se pudo obtener el contenido de la página externa.\")\n",
    "    exit()\n",
    "\n",
    "mensaje = f'''\n",
    "¡Hola! 👋😃\n",
    "\n",
    "Espero que te encuentres bien. Adjunto encontrarás el reporte actualizado de {busqueda} en el mercado.\n",
    "Te adjuntaremos un documento con todos los celulares entre S/. {min} y S/. {max}.\n",
    "\n",
    "¡Estos son los datos más recientes! 📊📈 Si necesitas alguna información adicional o tienes alguna pregunta, no dudes en contactarme.\n",
    "\n",
    "**Los datos recopilados son de las tiendas de Falabella, Hiraoka y MercadoLibre.\n",
    "\n",
    "¡Que tengas un gran día! 🌟📅\n",
    "\n",
    "\n",
    "Saludos cordiales,\n",
    "Marcello y Stephano\n",
    "Estudiantes de Estadística Informática, UNALM\n",
    "'''\n",
    "\n",
    "archivo = output_pdf\n",
    "\n",
    "yag.send(destinatario, asunto, [mensaje], attachments=[archivo], contents = html_content)\n",
    "\n",
    "print(f'Correo enviado satisfactoriamente a {destinatario}')\n"
   ]
  }
 ],
 "metadata": {
  "kernelspec": {
   "display_name": "Python 3 (ipykernel)",
   "language": "python",
   "name": "python3"
  },
  "language_info": {
   "codemirror_mode": {
    "name": "ipython",
    "version": 3
   },
   "file_extension": ".py",
   "mimetype": "text/x-python",
   "name": "python",
   "nbconvert_exporter": "python",
   "pygments_lexer": "ipython3",
   "version": "3.9.13"
  }
 },
 "nbformat": 4,
 "nbformat_minor": 2
}
